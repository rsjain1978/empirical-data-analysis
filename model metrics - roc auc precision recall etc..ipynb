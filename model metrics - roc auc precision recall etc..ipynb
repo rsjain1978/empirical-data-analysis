{
 "cells": [
  {
   "cell_type": "markdown",
   "metadata": {},
   "source": [
    "# Summary\n",
    "\n",
    "    - This notebook is intended to understand the concept of ROC, AUC, Precision Vs Recall and Thresholds\n",
    "    - These metrics are useful for evaluating and comparing classification models\n",
    "    - While these Precision, Recall, F1-Score, Confusion metrics are used commonly, this notebook focusses some aspects of these metrics which I had previously not explored.\n",
    "    \n",
    "### Approach\n",
    "    - We will build a simple classification model and purposefully configure it to give a low accuracy\n",
    "    - We will then evaluate the RUC curve, RUC-AUC score\n",
    "    - We will then evaluate at which threshold does the model has better Precision & Recall score"
   ]
  },
  {
   "cell_type": "code",
   "execution_count": 4,
   "metadata": {},
   "outputs": [],
   "source": [
    "from sklearn.datasets import load_breast_cancer\n",
    "from sklearn.model_selection import train_test_split\n",
    "import matplotlib.pyplot as plt\n",
    "%matplotlib inline\n",
    "\n",
    "data = load_breast_cancer()\n",
    "X = data.data\n",
    "y = data.target\n",
    "\n",
    "trainX, testX, trainY, testY = train_test_split(X,y)"
   ]
  },
  {
   "cell_type": "code",
   "execution_count": 22,
   "metadata": {},
   "outputs": [],
   "source": [
    "from sklearn.ensemble import RandomForestClassifier\n",
    "\n",
    "# purposefully put estimators as 1 to get a bad accuracy\n",
    "clf = RandomForestClassifier(n_estimators=1)\n",
    "rfc = clf.fit(trainX, trainY)\n",
    "yTestHat = rfc.predict(testX)"
   ]
  },
  {
   "cell_type": "markdown",
   "metadata": {},
   "source": [
    "#### Plot ROC (= FPR vs TPR) Graph\n",
    "\n",
    "    - ROC graph is a plot of different values of FPR & TPR for different values of Threshold on which model is evaluated\n",
    "    - For e.g. if Threshold is set to .5 for classification we would get one set of values for FPR and TPR\n",
    "    - if Threshold is set to 0.6 we would get another set of values for FPR and TPR\n",
    "    - So, all of these values of FPR and TPR when plotted give an ROC curve\n",
    "    - What we are looking for are those values of FPR & TPR which are as close to the top left corner of the graph - Why ? Because at top left corner our TPR would be maximum and FPR would be minimum. Which means that the model is giving least False Positives and maximum number of True Postives"
   ]
  },
  {
   "cell_type": "code",
   "execution_count": 21,
   "metadata": {},
   "outputs": [],
   "source": [
    "def show_roc_curve(falsePositiveRate, truePositiveRate):\n",
    "    plt.plot(falsePositiveRate, truePositiveRate)\n",
    "    plt.xlabel('False Positive Rate')\n",
    "    plt.ylabel('True Positive Rate')\n",
    "    plt.plot([0,1],[0,1],'r--')\n",
    "    plt.xlim([-0.001,1])\n",
    "    plt.ylim([0,1.001])\n",
    "    plt.show()"
   ]
  },
  {
   "cell_type": "code",
   "execution_count": 23,
   "metadata": {},
   "outputs": [
    {
     "data": {
      "image/png": "[encoded data removed]",
      "text/plain": [
       "<Figure size 432x288 with 1 Axes>"
      ]
     },
     "metadata": {
      "needs_background": "light"
     },
     "output_type": "display_data"
    }
   ],
   "source": [
    "from sklearn.metrics import roc_curve\n",
    "\n",
    "fpr, tpr, threshold = roc_curve(testY, yTestHat)\n",
    "show_roc_curve(fpr, tpr)\n",
    "\n",
    "# Red line in the resultant graph represents those data points where the FPR & TPR is same."
   ]
  },
  {
   "cell_type": "markdown",
   "metadata": {},
   "source": [
    "#### Plot Recall vs Precision Graph\n",
    "\n",
    "    - Precision & Recall are two competing forces to evaluate a model. \n",
    "    - Precision would be maximum when the number of False Positives would be least\n",
    "    - Recall would be maximum when the number of False Negatives would be least.\n",
    "    \n",
    "    To understand better, say we are trying to predict Fraud Transactions and we build a classifier for that.\n",
    "    --TODO UPDATE THIS"
   ]
  },
  {
   "cell_type": "code",
   "execution_count": 43,
   "metadata": {},
   "outputs": [],
   "source": [
    "def show_precision_recall_curve(precision, recall):\n",
    "    plt.plot(recall, precision)\n",
    "    plt.xlabel('recall')\n",
    "    plt.ylabel('precision')\n",
    "    plt.show()"
   ]
  },
  {
   "cell_type": "code",
   "execution_count": 44,
   "metadata": {},
   "outputs": [
    {
     "data": {
      "image/png": "[encoded data removed]",
      "text/plain": [
       "<Figure size 432x288 with 1 Axes>"
      ]
     },
     "metadata": {
      "needs_background": "light"
     },
     "output_type": "display_data"
    }
   ],
   "source": [
    "from sklearn.metrics import precision_recall_curve\n",
    "\n",
    "p, r, th = precision_recall_curve(testY, yTestHat)\n",
    "show_precision_recall_curve(p,r)"
   ]
  },
  {
   "cell_type": "markdown",
   "metadata": {},
   "source": [
    "#### Plot Precision vs Threshold Graph\n",
    "    \n",
    "    - This is an interesting graph to consider.\n",
    "    - Here we are check how precision varies as threshold changes\n",
    "    - What we will find is that as the threshold increases the Precision value increases. \n",
    "        - Which means that model increasingly starts classifying thiings as Positive. This is obviously not good because by doing so the False Negatives would start increasing.\n",
    "    "
   ]
  },
  {
   "cell_type": "markdown",
   "metadata": {},
   "source": [
    "#### Plot Recall vs Threshold Graph\n",
    "    \n",
    "    - This is an interesting graph to consider.\n",
    "    - Here we are check how precision varies as threshold changes\n",
    "    - What we will find is that as the threshhold keeps increasing the Recall value keeps decreasing.\n",
    "        - Which means that model is increasingly classifying as Negatives and hence False Negatives are increasing    "
   ]
  },
  {
   "cell_type": "markdown",
   "metadata": {},
   "source": [
    "## Conclusion - Precision, Recall, Threshold Graphs\n",
    "\n",
    "    - So, we need to find that value of Threshold at which both Precision and Recall are balanced.\n",
    "    - OR, for certain type of problems we may keep Threshold low which would give us zero False Negatives although this would come at the cost model predicting False Positives."
   ]
  },
  {
   "cell_type": "code",
   "execution_count": 45,
   "metadata": {},
   "outputs": [],
   "source": [
    "def show_precision_recall_threshold_curve(precision, recall, threshold):\n",
    "    \n",
    "    figure = plt.figure()\n",
    "    \n",
    "    ax1 = figure.add_subplot(211)\n",
    "    plt.plot(threshold, precision[1:])\n",
    "    plt.xlabel('threshold')\n",
    "    plt.ylabel('precision')\n",
    "    \n",
    "    ax1 = figure.add_subplot(212)\n",
    "    plt.plot(threshold, recall[1:])\n",
    "    plt.xlabel('threshold')\n",
    "    plt.ylabel('recall')\n",
    "    \n",
    "    plt.show()"
   ]
  },
  {
   "cell_type": "code",
   "execution_count": 46,
   "metadata": {},
   "outputs": [
    {
     "data": {
      "image/png": "[encoded data removed]",
      "text/plain": [
       "<Figure size 432x288 with 2 Axes>"
      ]
     },
     "metadata": {
      "needs_background": "light"
     },
     "output_type": "display_data"
    }
   ],
   "source": [
    "show_precision_recall_threshold_curve(p,r,th)"
   ]
  },
  {
   "cell_type": "code",
   "execution_count": null,
   "metadata": {},
   "outputs": [],
   "source": []
  }
 ],
 "metadata": {
  "kernelspec": {
   "display_name": "Python 3",
   "language": "python",
   "name": "python3"
  },
  "language_info": {
   "codemirror_mode": {
    "name": "ipython",
    "version": 3
   },
   "file_extension": ".py",
   "mimetype": "text/x-python",
   "name": "python",
   "nbconvert_exporter": "python",
   "pygments_lexer": "ipython3",
   "version": "3.7.3"
  }
 },
 "nbformat": 4,
 "nbformat_minor": 2
}
